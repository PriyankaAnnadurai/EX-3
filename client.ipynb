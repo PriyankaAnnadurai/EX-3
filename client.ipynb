{
 "cells": [
  {
   "cell_type": "code",
   "execution_count": 1,
   "metadata": {},
   "outputs": [
    {
     "name": "stdout",
     "output_type": "stream",
     "text": [
      "acknowledgement recived from the server\n",
      "acknowledgement recived from the server\n",
      "acknowledgement recived from the server\n"
     ]
    }
   ],
   "source": [
    "import socket\n",
    "s=socket.socket()\n",
    "s.bind(('localhost',8000))\n",
    "s.listen(5)\n",
    "c,addr=s.accept()\n",
    "size=int(input(\"Enter number of frames to send : \"))\n",
    "l=list(range(size))\n",
    "s=int(input(\"Enter Window Size : \"))\n",
    "st=0\n",
    "i=0\n",
    "while True:\n",
    "    while(i<len(l)):\n",
    "        st+=s\n",
    "        c.send(str(l[i:st]).encode())\n",
    "        ack=c.recv(1024).decode()\n",
    "        if ack:\n",
    "            print(ack)\n",
    "            i+=s"
   ]
  }
 ],
 "metadata": {
  "kernelspec": {
   "display_name": "Python 3",
   "language": "python",
   "name": "python3"
  },
  "language_info": {
   "codemirror_mode": {
    "name": "ipython",
    "version": 3
   },
   "file_extension": ".py",
   "mimetype": "text/x-python",
   "name": "python",
   "nbconvert_exporter": "python",
   "pygments_lexer": "ipython3",
   "version": "3.11.1"
  },
  "orig_nbformat": 4
 },
 "nbformat": 4,
 "nbformat_minor": 2
}
